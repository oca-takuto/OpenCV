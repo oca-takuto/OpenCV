{
 "cells": [
  {
   "cell_type": "code",
   "execution_count": 1,
   "id": "53392d6c",
   "metadata": {},
   "outputs": [],
   "source": [
    "import cv2"
   ]
  },
  {
   "cell_type": "code",
   "execution_count": 8,
   "id": "12667027",
   "metadata": {},
   "outputs": [],
   "source": [
    "face_cascade = cv2.CascadeClassifier('./haarcascade_frontalface_default.xml')\n",
    "eye_cascade = cv2.CascadeClassifier('./haarcascade_eye.xml')\n",
    "src = cv2.imread('./sample.jpg', 0)"
   ]
  },
  {
   "cell_type": "code",
   "execution_count": 9,
   "id": "d73fba39",
   "metadata": {},
   "outputs": [],
   "source": [
    "faces = face_cascade.detectMultiScale(src)"
   ]
  },
  {
   "cell_type": "code",
   "execution_count": null,
   "id": "abb29384",
   "metadata": {},
   "outputs": [],
   "source": [
    "for x, y, w, g in faces:\n",
    "    cv2.rectangle(src, (x,y), (x + w, y+h), (255, 255, 255), 1)\n",
    "    face = src[y: y + h, x: x + w]"
   ]
  }
 ],
 "metadata": {
  "kernelspec": {
   "display_name": "Python 3 (ipykernel)",
   "language": "python",
   "name": "python3"
  },
  "language_info": {
   "codemirror_mode": {
    "name": "ipython",
    "version": 3
   },
   "file_extension": ".py",
   "mimetype": "text/x-python",
   "name": "python",
   "nbconvert_exporter": "python",
   "pygments_lexer": "ipython3",
   "version": "3.8.10"
  }
 },
 "nbformat": 4,
 "nbformat_minor": 5
}
